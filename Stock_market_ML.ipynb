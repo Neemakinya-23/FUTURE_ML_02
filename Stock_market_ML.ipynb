{
 "cells": [
  {
   "cell_type": "code",
   "execution_count": 150,
   "id": "d68e5f72-77b3-4065-a536-44e35936d72c",
   "metadata": {},
   "outputs": [],
   "source": [
    "import yfinance as yf\n",
    "import pandas as pd\n",
    "import matplotlib.pyplot as plt\n",
    "from sklearn.ensemble import RandomForestClassifier\n",
    "from sklearn.metrics import precision_score"
   ]
  },
  {
   "cell_type": "code",
   "execution_count": 175,
   "id": "4f37e850-d116-4609-885a-fe8c6d10e844",
   "metadata": {},
   "outputs": [
    {
     "name": "stderr",
     "output_type": "stream",
     "text": [
      "[*********************100%***********************]  1 of 1 completed"
     ]
    },
    {
     "name": "stdout",
     "output_type": "stream",
     "text": [
      "                 Close        High         Low        Open    Volume\n",
      "Date                                                                \n",
      "2024-12-24  257.916443  257.926411  255.009620  255.209412  23234700\n",
      "2024-12-26  258.735504  259.814335  257.347047  257.906429  27237100\n",
      "2024-12-27  255.309296  258.415896  252.782075  257.546826  42355300\n",
      "2024-12-30  251.923019  253.221595  250.474615  251.952985  35557500\n",
      "2024-12-31  250.144974  253.001833  249.156056  252.162760  39480700\n"
     ]
    },
    {
     "name": "stderr",
     "output_type": "stream",
     "text": [
      "\n"
     ]
    }
   ],
   "source": [
    "# Define stock ticker, start, and end dates\n",
    "ticker = \"AAPL\"  # Apple Inc.\n",
    "start_date = \"2000-01-01\"\n",
    "end_date = \"2025-01-01\"\n",
    "\n",
    "# Fetch historical data\n",
    "stock_data = yf.download(ticker, start=start_date, end=end_date)\n",
    "\n",
    "# Optional: Rename other columns for clarity\n",
    "stock_data.columns = [\"Close\", \"High\", \"Low\", \"Open\", \"Volume\"]\n",
    "\n",
    "# Ensure the dataframe is sorted by date\n",
    "stock_data = stock_data.sort_index()\n",
    "\n",
    "# Display last few rows\n",
    "print(stock_data.tail())"
   ]
  },
  {
   "cell_type": "code",
   "execution_count": 176,
   "id": "33c14ddb-b1c6-4eb3-8493-94dc2a864b81",
   "metadata": {},
   "outputs": [
    {
     "data": {
      "text/plain": [
       "Close     6289\n",
       "High      6289\n",
       "Low       6289\n",
       "Open      6289\n",
       "Volume    6289\n",
       "dtype: int64"
      ]
     },
     "execution_count": 176,
     "metadata": {},
     "output_type": "execute_result"
    }
   ],
   "source": [
    "stock_data.count()"
   ]
  },
  {
   "cell_type": "code",
   "execution_count": 177,
   "id": "350ccfea-4e23-4c16-918f-ba1804bb70c6",
   "metadata": {},
   "outputs": [],
   "source": [
    "stock_data.to_csv(\"AAPL_stock_data.csv\",index = False)"
   ]
  },
  {
   "cell_type": "code",
   "execution_count": 178,
   "id": "1f34fa8e-7c7e-48a3-aef6-cdb3178dab18",
   "metadata": {},
   "outputs": [
    {
     "data": {
      "text/html": [
       "<div>\n",
       "<style scoped>\n",
       "    .dataframe tbody tr th:only-of-type {\n",
       "        vertical-align: middle;\n",
       "    }\n",
       "\n",
       "    .dataframe tbody tr th {\n",
       "        vertical-align: top;\n",
       "    }\n",
       "\n",
       "    .dataframe thead th {\n",
       "        text-align: right;\n",
       "    }\n",
       "</style>\n",
       "<table border=\"1\" class=\"dataframe\">\n",
       "  <thead>\n",
       "    <tr style=\"text-align: right;\">\n",
       "      <th></th>\n",
       "      <th>Close</th>\n",
       "      <th>High</th>\n",
       "      <th>Low</th>\n",
       "      <th>Open</th>\n",
       "      <th>Volume</th>\n",
       "    </tr>\n",
       "    <tr>\n",
       "      <th>Date</th>\n",
       "      <th></th>\n",
       "      <th></th>\n",
       "      <th></th>\n",
       "      <th></th>\n",
       "      <th></th>\n",
       "    </tr>\n",
       "  </thead>\n",
       "  <tbody>\n",
       "    <tr>\n",
       "      <th>2000-01-03</th>\n",
       "      <td>0.842151</td>\n",
       "      <td>0.846382</td>\n",
       "      <td>0.765036</td>\n",
       "      <td>0.789017</td>\n",
       "      <td>535796800</td>\n",
       "    </tr>\n",
       "    <tr>\n",
       "      <th>2000-01-04</th>\n",
       "      <td>0.771149</td>\n",
       "      <td>0.832276</td>\n",
       "      <td>0.761274</td>\n",
       "      <td>0.814408</td>\n",
       "      <td>512377600</td>\n",
       "    </tr>\n",
       "    <tr>\n",
       "      <th>2000-01-05</th>\n",
       "      <td>0.782433</td>\n",
       "      <td>0.831806</td>\n",
       "      <td>0.774910</td>\n",
       "      <td>0.780552</td>\n",
       "      <td>778321600</td>\n",
       "    </tr>\n",
       "    <tr>\n",
       "      <th>2000-01-06</th>\n",
       "      <td>0.714723</td>\n",
       "      <td>0.805004</td>\n",
       "      <td>0.714723</td>\n",
       "      <td>0.798421</td>\n",
       "      <td>767972800</td>\n",
       "    </tr>\n",
       "    <tr>\n",
       "      <th>2000-01-07</th>\n",
       "      <td>0.748578</td>\n",
       "      <td>0.759864</td>\n",
       "      <td>0.718485</td>\n",
       "      <td>0.726008</td>\n",
       "      <td>460734400</td>\n",
       "    </tr>\n",
       "  </tbody>\n",
       "</table>\n",
       "</div>"
      ],
      "text/plain": [
       "               Close      High       Low      Open     Volume\n",
       "Date                                                         \n",
       "2000-01-03  0.842151  0.846382  0.765036  0.789017  535796800\n",
       "2000-01-04  0.771149  0.832276  0.761274  0.814408  512377600\n",
       "2000-01-05  0.782433  0.831806  0.774910  0.780552  778321600\n",
       "2000-01-06  0.714723  0.805004  0.714723  0.798421  767972800\n",
       "2000-01-07  0.748578  0.759864  0.718485  0.726008  460734400"
      ]
     },
     "execution_count": 178,
     "metadata": {},
     "output_type": "execute_result"
    }
   ],
   "source": [
    "stock_data.head()"
   ]
  },
  {
   "cell_type": "code",
   "execution_count": 179,
   "id": "ed1f8b34-21d2-41b7-8c5d-2003cf5c887b",
   "metadata": {},
   "outputs": [
    {
     "data": {
      "text/plain": [
       "DatetimeIndex(['2000-01-03', '2000-01-04', '2000-01-05', '2000-01-06',\n",
       "               '2000-01-07', '2000-01-10', '2000-01-11', '2000-01-12',\n",
       "               '2000-01-13', '2000-01-14',\n",
       "               ...\n",
       "               '2024-12-17', '2024-12-18', '2024-12-19', '2024-12-20',\n",
       "               '2024-12-23', '2024-12-24', '2024-12-26', '2024-12-27',\n",
       "               '2024-12-30', '2024-12-31'],\n",
       "              dtype='datetime64[ns]', name='Date', length=6289, freq=None)"
      ]
     },
     "execution_count": 179,
     "metadata": {},
     "output_type": "execute_result"
    }
   ],
   "source": [
    "stock_data.index"
   ]
  },
  {
   "cell_type": "code",
   "execution_count": 256,
   "id": "6242d0ca-ee3c-4d12-832b-934366babb04",
   "metadata": {},
   "outputs": [
    {
     "data": {
      "text/plain": [
       "<Figure size 1200x600 with 0 Axes>"
      ]
     },
     "metadata": {},
     "output_type": "display_data"
    },
    {
     "data": {
      "image/png": "[encoded data removed]",
      "text/plain": [
       "<Figure size 640x480 with 1 Axes>"
      ]
     },
     "metadata": {},
     "output_type": "display_data"
    }
   ],
   "source": [
    "plt.figure(figsize=(12,6))\n",
    "stock_data.plot.line(y=\"Close\",use_index=True)\n",
    "plt.xlabel(\"Date\")\n",
    "plt.ylabel(\"Price\")\n",
    "plt.title(\"Stock Closing Price Over Time\")\n",
    "plt.legend();"
   ]
  },
  {
   "cell_type": "markdown",
   "id": "4ab0370f-fac6-471f-8819-225bd7c2ca2c",
   "metadata": {},
   "source": [
    "set up a target"
   ]
  },
  {
   "cell_type": "code",
   "execution_count": 181,
   "id": "6a57e26b-662d-4583-a02f-6d90cc3e4456",
   "metadata": {},
   "outputs": [
    {
     "data": {
      "text/html": [
       "<div>\n",
       "<style scoped>\n",
       "    .dataframe tbody tr th:only-of-type {\n",
       "        vertical-align: middle;\n",
       "    }\n",
       "\n",
       "    .dataframe tbody tr th {\n",
       "        vertical-align: top;\n",
       "    }\n",
       "\n",
       "    .dataframe thead th {\n",
       "        text-align: right;\n",
       "    }\n",
       "</style>\n",
       "<table border=\"1\" class=\"dataframe\">\n",
       "  <thead>\n",
       "    <tr style=\"text-align: right;\">\n",
       "      <th></th>\n",
       "      <th>Close</th>\n",
       "      <th>High</th>\n",
       "      <th>Low</th>\n",
       "      <th>Open</th>\n",
       "      <th>Volume</th>\n",
       "      <th>Tomorrow</th>\n",
       "    </tr>\n",
       "    <tr>\n",
       "      <th>Date</th>\n",
       "      <th></th>\n",
       "      <th></th>\n",
       "      <th></th>\n",
       "      <th></th>\n",
       "      <th></th>\n",
       "      <th></th>\n",
       "    </tr>\n",
       "  </thead>\n",
       "  <tbody>\n",
       "    <tr>\n",
       "      <th>2000-01-03</th>\n",
       "      <td>0.842151</td>\n",
       "      <td>0.846382</td>\n",
       "      <td>0.765036</td>\n",
       "      <td>0.789017</td>\n",
       "      <td>535796800</td>\n",
       "      <td>0.771149</td>\n",
       "    </tr>\n",
       "    <tr>\n",
       "      <th>2000-01-04</th>\n",
       "      <td>0.771149</td>\n",
       "      <td>0.832276</td>\n",
       "      <td>0.761274</td>\n",
       "      <td>0.814408</td>\n",
       "      <td>512377600</td>\n",
       "      <td>0.782433</td>\n",
       "    </tr>\n",
       "    <tr>\n",
       "      <th>2000-01-05</th>\n",
       "      <td>0.782433</td>\n",
       "      <td>0.831806</td>\n",
       "      <td>0.774910</td>\n",
       "      <td>0.780552</td>\n",
       "      <td>778321600</td>\n",
       "      <td>0.714723</td>\n",
       "    </tr>\n",
       "    <tr>\n",
       "      <th>2000-01-06</th>\n",
       "      <td>0.714723</td>\n",
       "      <td>0.805004</td>\n",
       "      <td>0.714723</td>\n",
       "      <td>0.798421</td>\n",
       "      <td>767972800</td>\n",
       "      <td>0.748578</td>\n",
       "    </tr>\n",
       "    <tr>\n",
       "      <th>2000-01-07</th>\n",
       "      <td>0.748578</td>\n",
       "      <td>0.759864</td>\n",
       "      <td>0.718485</td>\n",
       "      <td>0.726008</td>\n",
       "      <td>460734400</td>\n",
       "      <td>0.735412</td>\n",
       "    </tr>\n",
       "  </tbody>\n",
       "</table>\n",
       "</div>"
      ],
      "text/plain": [
       "               Close      High       Low      Open     Volume  Tomorrow\n",
       "Date                                                                   \n",
       "2000-01-03  0.842151  0.846382  0.765036  0.789017  535796800  0.771149\n",
       "2000-01-04  0.771149  0.832276  0.761274  0.814408  512377600  0.782433\n",
       "2000-01-05  0.782433  0.831806  0.774910  0.780552  778321600  0.714723\n",
       "2000-01-06  0.714723  0.805004  0.714723  0.798421  767972800  0.748578\n",
       "2000-01-07  0.748578  0.759864  0.718485  0.726008  460734400  0.735412"
      ]
     },
     "execution_count": 181,
     "metadata": {},
     "output_type": "execute_result"
    }
   ],
   "source": [
    "stock_data[\"Tomorrow\"] = stock_data[\"Close\"].shift(-1)\n",
    "stock_data.head()"
   ]
  },
  {
   "cell_type": "code",
   "execution_count": 182,
   "id": "160c0d6f-b962-4208-993a-2f0f245367ca",
   "metadata": {},
   "outputs": [
    {
     "data": {
      "text/html": [
       "<div>\n",
       "<style scoped>\n",
       "    .dataframe tbody tr th:only-of-type {\n",
       "        vertical-align: middle;\n",
       "    }\n",
       "\n",
       "    .dataframe tbody tr th {\n",
       "        vertical-align: top;\n",
       "    }\n",
       "\n",
       "    .dataframe thead th {\n",
       "        text-align: right;\n",
       "    }\n",
       "</style>\n",
       "<table border=\"1\" class=\"dataframe\">\n",
       "  <thead>\n",
       "    <tr style=\"text-align: right;\">\n",
       "      <th></th>\n",
       "      <th>Close</th>\n",
       "      <th>High</th>\n",
       "      <th>Low</th>\n",
       "      <th>Open</th>\n",
       "      <th>Volume</th>\n",
       "      <th>Tomorrow</th>\n",
       "      <th>Target</th>\n",
       "    </tr>\n",
       "    <tr>\n",
       "      <th>Date</th>\n",
       "      <th></th>\n",
       "      <th></th>\n",
       "      <th></th>\n",
       "      <th></th>\n",
       "      <th></th>\n",
       "      <th></th>\n",
       "      <th></th>\n",
       "    </tr>\n",
       "  </thead>\n",
       "  <tbody>\n",
       "    <tr>\n",
       "      <th>2000-01-03</th>\n",
       "      <td>0.842151</td>\n",
       "      <td>0.846382</td>\n",
       "      <td>0.765036</td>\n",
       "      <td>0.789017</td>\n",
       "      <td>535796800</td>\n",
       "      <td>0.771149</td>\n",
       "      <td>0</td>\n",
       "    </tr>\n",
       "    <tr>\n",
       "      <th>2000-01-04</th>\n",
       "      <td>0.771149</td>\n",
       "      <td>0.832276</td>\n",
       "      <td>0.761274</td>\n",
       "      <td>0.814408</td>\n",
       "      <td>512377600</td>\n",
       "      <td>0.782433</td>\n",
       "      <td>1</td>\n",
       "    </tr>\n",
       "    <tr>\n",
       "      <th>2000-01-05</th>\n",
       "      <td>0.782433</td>\n",
       "      <td>0.831806</td>\n",
       "      <td>0.774910</td>\n",
       "      <td>0.780552</td>\n",
       "      <td>778321600</td>\n",
       "      <td>0.714723</td>\n",
       "      <td>0</td>\n",
       "    </tr>\n",
       "    <tr>\n",
       "      <th>2000-01-06</th>\n",
       "      <td>0.714723</td>\n",
       "      <td>0.805004</td>\n",
       "      <td>0.714723</td>\n",
       "      <td>0.798421</td>\n",
       "      <td>767972800</td>\n",
       "      <td>0.748578</td>\n",
       "      <td>1</td>\n",
       "    </tr>\n",
       "    <tr>\n",
       "      <th>2000-01-07</th>\n",
       "      <td>0.748578</td>\n",
       "      <td>0.759864</td>\n",
       "      <td>0.718485</td>\n",
       "      <td>0.726008</td>\n",
       "      <td>460734400</td>\n",
       "      <td>0.735412</td>\n",
       "      <td>0</td>\n",
       "    </tr>\n",
       "  </tbody>\n",
       "</table>\n",
       "</div>"
      ],
      "text/plain": [
       "               Close      High       Low      Open     Volume  Tomorrow  \\\n",
       "Date                                                                      \n",
       "2000-01-03  0.842151  0.846382  0.765036  0.789017  535796800  0.771149   \n",
       "2000-01-04  0.771149  0.832276  0.761274  0.814408  512377600  0.782433   \n",
       "2000-01-05  0.782433  0.831806  0.774910  0.780552  778321600  0.714723   \n",
       "2000-01-06  0.714723  0.805004  0.714723  0.798421  767972800  0.748578   \n",
       "2000-01-07  0.748578  0.759864  0.718485  0.726008  460734400  0.735412   \n",
       "\n",
       "            Target  \n",
       "Date                \n",
       "2000-01-03       0  \n",
       "2000-01-04       1  \n",
       "2000-01-05       0  \n",
       "2000-01-06       1  \n",
       "2000-01-07       0  "
      ]
     },
     "execution_count": 182,
     "metadata": {},
     "output_type": "execute_result"
    }
   ],
   "source": [
    "stock_data[\"Target\"] = (stock_data[\"Tomorrow\"] > stock_data[\"Close\"]).astype(int)\n",
    "stock_data.head()"
   ]
  },
  {
   "cell_type": "markdown",
   "id": "23bb431f-93f6-43f8-8cb6-67c8e1835921",
   "metadata": {},
   "source": [
    "#"
   ]
  },
  {
   "cell_type": "markdown",
   "id": "96688d77-0818-45bc-8be6-a9e4f200600d",
   "metadata": {},
   "source": [
    "# *Building the model*"
   ]
  },
  {
   "cell_type": "markdown",
   "id": "fc250531-f7da-4b8f-9125-d0f215ecacfa",
   "metadata": {},
   "source": [
    "*using RandomForestClassifier:*\n",
    "- It is resistant to overfitting  \n",
    "- Runs really quickly  \n",
    "- Picks up on non-linear tendencies in the data  "
   ]
  },
  {
   "cell_type": "code",
   "execution_count": 228,
   "id": "70b4ec7a-eaf6-448f-a8a9-b1d731344976",
   "metadata": {},
   "outputs": [],
   "source": [
    "predictors = [\"Close\",\"Volume\",\"Open\",\"High\",\"Low\"]"
   ]
  },
  {
   "cell_type": "code",
   "execution_count": 229,
   "id": "c59d68a3-4cf9-4bc9-bc57-e31ba28f13c6",
   "metadata": {},
   "outputs": [],
   "source": [
    "def predict(train,test,predictors,model):\n",
    "    model.fit(train[predictors],train[\"Target\"])\n",
    "    preds = model.predict(test[Predictors])\n",
    "    preds = pd.Series(preds,index = test.index,name =\"Predictions\")\n",
    "    combined = pd.concat([test[\"Target\"],preds],axis = 1)\n",
    "    return combined"
   ]
  },
  {
   "cell_type": "code",
   "execution_count": 230,
   "id": "ee7672dc-cd05-4988-b3ef-3aa90e94fdf5",
   "metadata": {},
   "outputs": [],
   "source": [
    "def backtest(data,model,predictors,start=2500,step=250):\n",
    "    all_predictions = []\n",
    "\n",
    "    for i in range(start,data.shape[0],step):\n",
    "        train = data.iloc[0:i].copy()\n",
    "        test = data.iloc[i:(i+step)].copy()\n",
    "        predictions = predict(train,test,predictors,model)\n",
    "        all_predictions.append(predictions)\n",
    "    return pd.concat(all_predictions)"
   ]
  },
  {
   "cell_type": "code",
   "execution_count": 232,
   "id": "b8a30671-3699-49a2-bef1-9dededdc2dca",
   "metadata": {},
   "outputs": [],
   "source": [
    "predictions = backtest(stock_data,model,predictors)"
   ]
  },
  {
   "cell_type": "code",
   "execution_count": 237,
   "id": "e4eb8211-2ff3-4047-84c8-541fff680c9b",
   "metadata": {},
   "outputs": [
    {
     "data": {
      "text/plain": [
       "Predictions\n",
       "0    1152\n",
       "1     636\n",
       "Name: count, dtype: int64"
      ]
     },
     "execution_count": 237,
     "metadata": {},
     "output_type": "execute_result"
    }
   ],
   "source": [
    "predictions[\"Predictions\"].value_counts()"
   ]
  },
  {
   "cell_type": "code",
   "execution_count": 193,
   "id": "7b7b636b-0f68-4ac8-9370-f6d9178f07dc",
   "metadata": {},
   "outputs": [
    {
     "data": {
      "text/plain": [
       "0.5257936507936508"
      ]
     },
     "execution_count": 193,
     "metadata": {},
     "output_type": "execute_result"
    }
   ],
   "source": [
    "precision_score(predictions[\"Target\"],predictions[\"Predictions\"])"
   ]
  },
  {
   "cell_type": "code",
   "execution_count": 191,
   "id": "ae3e9241-189d-45fe-b8da-df23246eb3d8",
   "metadata": {},
   "outputs": [
    {
     "data": {
      "text/plain": [
       "Target\n",
       "1    0.531539\n",
       "0    0.468461\n",
       "Name: count, dtype: float64"
      ]
     },
     "execution_count": 191,
     "metadata": {},
     "output_type": "execute_result"
    }
   ],
   "source": [
    "predictions[\"Target\"].value_counts()/predictions.shape[0]"
   ]
  },
  {
   "cell_type": "code",
   "execution_count": 194,
   "id": "ae16ac46-e8c1-40f5-9237-d05bc4793e23",
   "metadata": {},
   "outputs": [],
   "source": [
    "#The mode prediction is a bit too low "
   ]
  },
  {
   "cell_type": "code",
   "execution_count": 209,
   "id": "68deb59d-0f25-4c50-986c-1c4b901984c5",
   "metadata": {},
   "outputs": [],
   "source": [
    "horizons = [2,5,60,250,1000]\n",
    "new_predictors = []\n",
    "\n",
    "for horizon in horizons:\n",
    "    rolling_average = stock_data.rolling(horizon).mean()\n",
    "\n",
    "    ratio_column = f\"Close_Ratio_{horizon}\"\n",
    "    stock_data[ratio_column] = stock_data[\"Close\"]/rolling_average[\"Close\"]\n",
    "\n",
    "    trend_column = f\"Trend_{horizon}\"\n",
    "    stock_data[trend_column] = stock_data.shift(1).rolling(horizon).sum()[\"Target\"]\n",
    "\n",
    "    new_predictors +=[ratio_column,trend_column]"
   ]
  },
  {
   "cell_type": "code",
   "execution_count": 210,
   "id": "39c8e4db-6a2b-4f24-b12a-444b5666c841",
   "metadata": {},
   "outputs": [
    {
     "data": {
      "text/html": [
       "<div>\n",
       "<style scoped>\n",
       "    .dataframe tbody tr th:only-of-type {\n",
       "        vertical-align: middle;\n",
       "    }\n",
       "\n",
       "    .dataframe tbody tr th {\n",
       "        vertical-align: top;\n",
       "    }\n",
       "\n",
       "    .dataframe thead th {\n",
       "        text-align: right;\n",
       "    }\n",
       "</style>\n",
       "<table border=\"1\" class=\"dataframe\">\n",
       "  <thead>\n",
       "    <tr style=\"text-align: right;\">\n",
       "      <th></th>\n",
       "      <th>Close</th>\n",
       "      <th>High</th>\n",
       "      <th>Low</th>\n",
       "      <th>Open</th>\n",
       "      <th>Volume</th>\n",
       "      <th>Tomorrow</th>\n",
       "      <th>Target</th>\n",
       "      <th>Close_Ratio_2</th>\n",
       "      <th>Trend_2</th>\n",
       "      <th>Close_Ratio_5</th>\n",
       "      <th>Trend_5</th>\n",
       "      <th>Close_Ratio_60</th>\n",
       "      <th>Trend_60</th>\n",
       "      <th>Close_Ratio_250</th>\n",
       "      <th>Trend_250</th>\n",
       "      <th>Close_Ratio_1000</th>\n",
       "      <th>Trend_1000</th>\n",
       "    </tr>\n",
       "    <tr>\n",
       "      <th>Date</th>\n",
       "      <th></th>\n",
       "      <th></th>\n",
       "      <th></th>\n",
       "      <th></th>\n",
       "      <th></th>\n",
       "      <th></th>\n",
       "      <th></th>\n",
       "      <th></th>\n",
       "      <th></th>\n",
       "      <th></th>\n",
       "      <th></th>\n",
       "      <th></th>\n",
       "      <th></th>\n",
       "      <th></th>\n",
       "      <th></th>\n",
       "      <th></th>\n",
       "      <th></th>\n",
       "    </tr>\n",
       "  </thead>\n",
       "  <tbody>\n",
       "    <tr>\n",
       "      <th>2003-12-26</th>\n",
       "      <td>0.312672</td>\n",
       "      <td>0.314629</td>\n",
       "      <td>0.306052</td>\n",
       "      <td>0.306202</td>\n",
       "      <td>103695200</td>\n",
       "      <td>0.318240</td>\n",
       "      <td>1</td>\n",
       "      <td>NaN</td>\n",
       "      <td>NaN</td>\n",
       "      <td>NaN</td>\n",
       "      <td>NaN</td>\n",
       "      <td>NaN</td>\n",
       "      <td>NaN</td>\n",
       "      <td>NaN</td>\n",
       "      <td>NaN</td>\n",
       "      <td>NaN</td>\n",
       "      <td>NaN</td>\n",
       "    </tr>\n",
       "    <tr>\n",
       "      <th>2003-12-29</th>\n",
       "      <td>0.318240</td>\n",
       "      <td>0.318390</td>\n",
       "      <td>0.313876</td>\n",
       "      <td>0.314629</td>\n",
       "      <td>233458400</td>\n",
       "      <td>0.320196</td>\n",
       "      <td>1</td>\n",
       "      <td>1.008825</td>\n",
       "      <td>NaN</td>\n",
       "      <td>NaN</td>\n",
       "      <td>NaN</td>\n",
       "      <td>NaN</td>\n",
       "      <td>NaN</td>\n",
       "      <td>NaN</td>\n",
       "      <td>NaN</td>\n",
       "      <td>NaN</td>\n",
       "      <td>NaN</td>\n",
       "    </tr>\n",
       "    <tr>\n",
       "      <th>2003-12-30</th>\n",
       "      <td>0.320196</td>\n",
       "      <td>0.323507</td>\n",
       "      <td>0.318240</td>\n",
       "      <td>0.318691</td>\n",
       "      <td>204853600</td>\n",
       "      <td>0.321550</td>\n",
       "      <td>1</td>\n",
       "      <td>1.003063</td>\n",
       "      <td>2.0</td>\n",
       "      <td>NaN</td>\n",
       "      <td>NaN</td>\n",
       "      <td>NaN</td>\n",
       "      <td>NaN</td>\n",
       "      <td>NaN</td>\n",
       "      <td>NaN</td>\n",
       "      <td>NaN</td>\n",
       "      <td>NaN</td>\n",
       "    </tr>\n",
       "    <tr>\n",
       "      <th>2003-12-31</th>\n",
       "      <td>0.321550</td>\n",
       "      <td>0.323957</td>\n",
       "      <td>0.318691</td>\n",
       "      <td>0.321249</td>\n",
       "      <td>174451200</td>\n",
       "      <td>0.320196</td>\n",
       "      <td>0</td>\n",
       "      <td>1.002110</td>\n",
       "      <td>2.0</td>\n",
       "      <td>NaN</td>\n",
       "      <td>NaN</td>\n",
       "      <td>NaN</td>\n",
       "      <td>NaN</td>\n",
       "      <td>NaN</td>\n",
       "      <td>NaN</td>\n",
       "      <td>NaN</td>\n",
       "      <td>NaN</td>\n",
       "    </tr>\n",
       "    <tr>\n",
       "      <th>2004-01-02</th>\n",
       "      <td>0.320196</td>\n",
       "      <td>0.327268</td>\n",
       "      <td>0.318691</td>\n",
       "      <td>0.324258</td>\n",
       "      <td>144642400</td>\n",
       "      <td>0.333588</td>\n",
       "      <td>1</td>\n",
       "      <td>0.997890</td>\n",
       "      <td>1.0</td>\n",
       "      <td>1.005101</td>\n",
       "      <td>NaN</td>\n",
       "      <td>NaN</td>\n",
       "      <td>NaN</td>\n",
       "      <td>NaN</td>\n",
       "      <td>NaN</td>\n",
       "      <td>NaN</td>\n",
       "      <td>NaN</td>\n",
       "    </tr>\n",
       "  </tbody>\n",
       "</table>\n",
       "</div>"
      ],
      "text/plain": [
       "               Close      High       Low      Open     Volume  Tomorrow  \\\n",
       "Date                                                                      \n",
       "2003-12-26  0.312672  0.314629  0.306052  0.306202  103695200  0.318240   \n",
       "2003-12-29  0.318240  0.318390  0.313876  0.314629  233458400  0.320196   \n",
       "2003-12-30  0.320196  0.323507  0.318240  0.318691  204853600  0.321550   \n",
       "2003-12-31  0.321550  0.323957  0.318691  0.321249  174451200  0.320196   \n",
       "2004-01-02  0.320196  0.327268  0.318691  0.324258  144642400  0.333588   \n",
       "\n",
       "            Target  Close_Ratio_2  Trend_2  Close_Ratio_5  Trend_5  \\\n",
       "Date                                                                 \n",
       "2003-12-26       1            NaN      NaN            NaN      NaN   \n",
       "2003-12-29       1       1.008825      NaN            NaN      NaN   \n",
       "2003-12-30       1       1.003063      2.0            NaN      NaN   \n",
       "2003-12-31       0       1.002110      2.0            NaN      NaN   \n",
       "2004-01-02       1       0.997890      1.0       1.005101      NaN   \n",
       "\n",
       "            Close_Ratio_60  Trend_60  Close_Ratio_250  Trend_250  \\\n",
       "Date                                                               \n",
       "2003-12-26             NaN       NaN              NaN        NaN   \n",
       "2003-12-29             NaN       NaN              NaN        NaN   \n",
       "2003-12-30             NaN       NaN              NaN        NaN   \n",
       "2003-12-31             NaN       NaN              NaN        NaN   \n",
       "2004-01-02             NaN       NaN              NaN        NaN   \n",
       "\n",
       "            Close_Ratio_1000  Trend_1000  \n",
       "Date                                      \n",
       "2003-12-26               NaN         NaN  \n",
       "2003-12-29               NaN         NaN  \n",
       "2003-12-30               NaN         NaN  \n",
       "2003-12-31               NaN         NaN  \n",
       "2004-01-02               NaN         NaN  "
      ]
     },
     "execution_count": 210,
     "metadata": {},
     "output_type": "execute_result"
    }
   ],
   "source": [
    "stock_data.head()"
   ]
  },
  {
   "cell_type": "code",
   "execution_count": 211,
   "id": "5335a033-fddf-46e7-b30e-f73c33d0ec56",
   "metadata": {},
   "outputs": [
    {
     "data": {
      "text/html": [
       "<div>\n",
       "<style scoped>\n",
       "    .dataframe tbody tr th:only-of-type {\n",
       "        vertical-align: middle;\n",
       "    }\n",
       "\n",
       "    .dataframe tbody tr th {\n",
       "        vertical-align: top;\n",
       "    }\n",
       "\n",
       "    .dataframe thead th {\n",
       "        text-align: right;\n",
       "    }\n",
       "</style>\n",
       "<table border=\"1\" class=\"dataframe\">\n",
       "  <thead>\n",
       "    <tr style=\"text-align: right;\">\n",
       "      <th></th>\n",
       "      <th>Close</th>\n",
       "      <th>High</th>\n",
       "      <th>Low</th>\n",
       "      <th>Open</th>\n",
       "      <th>Volume</th>\n",
       "      <th>Tomorrow</th>\n",
       "      <th>Target</th>\n",
       "      <th>Close_Ratio_2</th>\n",
       "      <th>Trend_2</th>\n",
       "      <th>Close_Ratio_5</th>\n",
       "      <th>Trend_5</th>\n",
       "      <th>Close_Ratio_60</th>\n",
       "      <th>Trend_60</th>\n",
       "      <th>Close_Ratio_250</th>\n",
       "      <th>Trend_250</th>\n",
       "      <th>Close_Ratio_1000</th>\n",
       "      <th>Trend_1000</th>\n",
       "    </tr>\n",
       "    <tr>\n",
       "      <th>Date</th>\n",
       "      <th></th>\n",
       "      <th></th>\n",
       "      <th></th>\n",
       "      <th></th>\n",
       "      <th></th>\n",
       "      <th></th>\n",
       "      <th></th>\n",
       "      <th></th>\n",
       "      <th></th>\n",
       "      <th></th>\n",
       "      <th></th>\n",
       "      <th></th>\n",
       "      <th></th>\n",
       "      <th></th>\n",
       "      <th></th>\n",
       "      <th></th>\n",
       "      <th></th>\n",
       "    </tr>\n",
       "  </thead>\n",
       "  <tbody>\n",
       "    <tr>\n",
       "      <th>2007-12-17</th>\n",
       "      <td>5.549258</td>\n",
       "      <td>5.797530</td>\n",
       "      <td>5.506526</td>\n",
       "      <td>5.739450</td>\n",
       "      <td>1024693600</td>\n",
       "      <td>5.506525</td>\n",
       "      <td>0</td>\n",
       "      <td>0.984018</td>\n",
       "      <td>0.0</td>\n",
       "      <td>0.974609</td>\n",
       "      <td>2.0</td>\n",
       "      <td>1.058724</td>\n",
       "      <td>33.0</td>\n",
       "      <td>1.481352</td>\n",
       "      <td>138.0</td>\n",
       "      <td>2.858940</td>\n",
       "      <td>543.0</td>\n",
       "    </tr>\n",
       "    <tr>\n",
       "      <th>2007-12-18</th>\n",
       "      <td>5.506525</td>\n",
       "      <td>5.637432</td>\n",
       "      <td>5.374715</td>\n",
       "      <td>5.613057</td>\n",
       "      <td>1222603200</td>\n",
       "      <td>5.510740</td>\n",
       "      <td>1</td>\n",
       "      <td>0.996135</td>\n",
       "      <td>0.0</td>\n",
       "      <td>0.972822</td>\n",
       "      <td>2.0</td>\n",
       "      <td>1.047095</td>\n",
       "      <td>32.0</td>\n",
       "      <td>1.465393</td>\n",
       "      <td>137.0</td>\n",
       "      <td>2.829361</td>\n",
       "      <td>542.0</td>\n",
       "    </tr>\n",
       "    <tr>\n",
       "      <th>2007-12-19</th>\n",
       "      <td>5.510740</td>\n",
       "      <td>5.556483</td>\n",
       "      <td>5.443932</td>\n",
       "      <td>5.506527</td>\n",
       "      <td>827478400</td>\n",
       "      <td>5.633822</td>\n",
       "      <td>1</td>\n",
       "      <td>1.000383</td>\n",
       "      <td>1.0</td>\n",
       "      <td>0.981645</td>\n",
       "      <td>2.0</td>\n",
       "      <td>1.044912</td>\n",
       "      <td>32.0</td>\n",
       "      <td>1.461908</td>\n",
       "      <td>138.0</td>\n",
       "      <td>2.823995</td>\n",
       "      <td>542.0</td>\n",
       "    </tr>\n",
       "    <tr>\n",
       "      <th>2007-12-20</th>\n",
       "      <td>5.633822</td>\n",
       "      <td>5.652480</td>\n",
       "      <td>5.517060</td>\n",
       "      <td>5.580256</td>\n",
       "      <td>774057200</td>\n",
       "      <td>5.835450</td>\n",
       "      <td>1</td>\n",
       "      <td>1.011044</td>\n",
       "      <td>2.0</td>\n",
       "      <td>1.008566</td>\n",
       "      <td>2.0</td>\n",
       "      <td>1.064763</td>\n",
       "      <td>33.0</td>\n",
       "      <td>1.489598</td>\n",
       "      <td>139.0</td>\n",
       "      <td>2.879231</td>\n",
       "      <td>542.0</td>\n",
       "    </tr>\n",
       "    <tr>\n",
       "      <th>2007-12-21</th>\n",
       "      <td>5.835450</td>\n",
       "      <td>5.835450</td>\n",
       "      <td>5.714474</td>\n",
       "      <td>5.721395</td>\n",
       "      <td>993960800</td>\n",
       "      <td>5.982607</td>\n",
       "      <td>1</td>\n",
       "      <td>1.017580</td>\n",
       "      <td>2.0</td>\n",
       "      <td>1.040714</td>\n",
       "      <td>3.0</td>\n",
       "      <td>1.098765</td>\n",
       "      <td>33.0</td>\n",
       "      <td>1.537443</td>\n",
       "      <td>140.0</td>\n",
       "      <td>2.973893</td>\n",
       "      <td>543.0</td>\n",
       "    </tr>\n",
       "  </tbody>\n",
       "</table>\n",
       "</div>"
      ],
      "text/plain": [
       "               Close      High       Low      Open      Volume  Tomorrow  \\\n",
       "Date                                                                       \n",
       "2007-12-17  5.549258  5.797530  5.506526  5.739450  1024693600  5.506525   \n",
       "2007-12-18  5.506525  5.637432  5.374715  5.613057  1222603200  5.510740   \n",
       "2007-12-19  5.510740  5.556483  5.443932  5.506527   827478400  5.633822   \n",
       "2007-12-20  5.633822  5.652480  5.517060  5.580256   774057200  5.835450   \n",
       "2007-12-21  5.835450  5.835450  5.714474  5.721395   993960800  5.982607   \n",
       "\n",
       "            Target  Close_Ratio_2  Trend_2  Close_Ratio_5  Trend_5  \\\n",
       "Date                                                                 \n",
       "2007-12-17       0       0.984018      0.0       0.974609      2.0   \n",
       "2007-12-18       1       0.996135      0.0       0.972822      2.0   \n",
       "2007-12-19       1       1.000383      1.0       0.981645      2.0   \n",
       "2007-12-20       1       1.011044      2.0       1.008566      2.0   \n",
       "2007-12-21       1       1.017580      2.0       1.040714      3.0   \n",
       "\n",
       "            Close_Ratio_60  Trend_60  Close_Ratio_250  Trend_250  \\\n",
       "Date                                                               \n",
       "2007-12-17        1.058724      33.0         1.481352      138.0   \n",
       "2007-12-18        1.047095      32.0         1.465393      137.0   \n",
       "2007-12-19        1.044912      32.0         1.461908      138.0   \n",
       "2007-12-20        1.064763      33.0         1.489598      139.0   \n",
       "2007-12-21        1.098765      33.0         1.537443      140.0   \n",
       "\n",
       "            Close_Ratio_1000  Trend_1000  \n",
       "Date                                      \n",
       "2007-12-17          2.858940       543.0  \n",
       "2007-12-18          2.829361       542.0  \n",
       "2007-12-19          2.823995       542.0  \n",
       "2007-12-20          2.879231       542.0  \n",
       "2007-12-21          2.973893       543.0  "
      ]
     },
     "execution_count": 211,
     "metadata": {},
     "output_type": "execute_result"
    }
   ],
   "source": [
    "stock_data = stock_data.dropna()\n",
    "stock_data.head()"
   ]
  },
  {
   "cell_type": "code",
   "execution_count": 225,
   "id": "2d10e884-74d8-43ea-8637-9db6d4007c11",
   "metadata": {},
   "outputs": [],
   "source": [
    "model = RandomForestClassifier(n_estimators = 200,min_samples_split = 50 ,random_state = 1)"
   ]
  },
  {
   "cell_type": "code",
   "execution_count": 233,
   "id": "6603b69b-74be-4a49-b2dd-4ce0b2616450",
   "metadata": {},
   "outputs": [],
   "source": [
    "def predict(train,test,predictors,model2):\n",
    "    model.fit(train[predictors],train[\"Target\"])\n",
    "    preds = model.predict_proba(test[predictors])[:,1]\n",
    "    preds[preds >= .6] = 1\n",
    "    preds[preds < .6] = 0\n",
    "    preds = pd.Series(preds, index = test.index,name =\"Predictions\")\n",
    "    combined = pd.concat([test[\"Target\"],preds],axis = 1)\n",
    "    return combined"
   ]
  },
  {
   "cell_type": "code",
   "execution_count": 234,
   "id": "958f94c6-3c92-44cb-b177-f269df4eeccd",
   "metadata": {},
   "outputs": [],
   "source": [
    "Predictions = backtest(stock_data,model,new_predictors)"
   ]
  },
  {
   "cell_type": "code",
   "execution_count": 236,
   "id": "590a6d1d-ff7c-4990-8c51-08d39dc4c020",
   "metadata": {},
   "outputs": [
    {
     "data": {
      "text/plain": [
       "Predictions\n",
       "0.0    1555\n",
       "1.0     233\n",
       "Name: count, dtype: int64"
      ]
     },
     "execution_count": 236,
     "metadata": {},
     "output_type": "execute_result"
    }
   ],
   "source": [
    "Predictions[\"Predictions\"].value_counts()"
   ]
  },
  {
   "cell_type": "code",
   "execution_count": 239,
   "id": "92655be4-4663-4fd8-823e-eec27c333ea2",
   "metadata": {},
   "outputs": [
    {
     "data": {
      "text/plain": [
       "0.5644654088050315"
      ]
     },
     "execution_count": 239,
     "metadata": {},
     "output_type": "execute_result"
    }
   ],
   "source": [
    "precision_score(Predictions[\"Target\"],predictions[\"Predictions\"])"
   ]
  },
  {
   "cell_type": "code",
   "execution_count": 246,
   "id": "3a7b003b-769a-4836-bbc0-47cb4cfb7542",
   "metadata": {},
   "outputs": [
    {
     "data": {
      "image/png": "[encoded data removed]",
      "text/plain": [
       "<Figure size 1200x600 with 1 Axes>"
      ]
     },
     "metadata": {},
     "output_type": "display_data"
    }
   ],
   "source": [
    "plt.figure(figsize=(12,6))\n",
    "plt.plot(stock_data.index, stock_data[\"Close\"], label=\"Actual Closing Price\", color=\"blue\")\n",
    "plt.xlabel(\"Date\")\n",
    "plt.ylabel(\"Price\")\n",
    "plt.title(\"Stock Closing Price Over Time\")\n",
    "plt.legend()\n",
    "plt.show()"
   ]
  },
  {
   "cell_type": "code",
   "execution_count": null,
   "id": "7e1f061f-f7b4-4891-8cb6-e84a62272746",
   "metadata": {},
   "outputs": [],
   "source": [
    "plt.figure(figsize=(12,6))\n",
    "stock_data.plot.line(y=\"Close\",use_index=True);"
   ]
  }
 ],
 "metadata": {
  "kernelspec": {
   "display_name": "Python 3 (ipykernel)",
   "language": "python",
   "name": "python3"
  },
  "language_info": {
   "codemirror_mode": {
    "name": "ipython",
    "version": 3
   },
   "file_extension": ".py",
   "mimetype": "text/x-python",
   "name": "python",
   "nbconvert_exporter": "python",
   "pygments_lexer": "ipython3",
   "version": "3.12.7"
  }
 },
 "nbformat": 4,
 "nbformat_minor": 5
}
